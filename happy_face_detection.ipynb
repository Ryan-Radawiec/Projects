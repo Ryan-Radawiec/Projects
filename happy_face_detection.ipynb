{
  "nbformat": 4,
  "nbformat_minor": 0,
  "metadata": {
    "colab": {
      "name": "happy face detection.ipynb",
      "provenance": [],
      "collapsed_sections": [],
      "authorship_tag": "ABX9TyPLYdSiTWSqboqcDURw704X",
      "include_colab_link": true
    },
    "kernelspec": {
      "name": "python3",
      "display_name": "Python 3"
    },
    "accelerator": "GPU"
  },
  "cells": [
    {
      "cell_type": "markdown",
      "metadata": {
        "id": "view-in-github",
        "colab_type": "text"
      },
      "source": [
        "<a href=\"https://colab.research.google.com/github/Ryan-Radawiec/Projects/blob/master/happy_face_detection.ipynb\" target=\"_parent\"><img src=\"https://colab.research.google.com/assets/colab-badge.svg\" alt=\"Open In Colab\"/></a>"
      ]
    },
    {
      "cell_type": "code",
      "metadata": {
        "id": "x3dvFu6vPE_3"
      },
      "source": [
        "import numpy as np\n",
        "from keras import layers\n",
        "from keras.layers import Input, Dense, Activation, ZeroPadding2D, BatchNormalization, Flatten, Conv2D\n",
        "from keras.layers import AveragePooling2D, MaxPooling2D, Dropout, GlobalMaxPooling2D, GlobalAveragePooling2D\n",
        "from keras.models import Model\n",
        "from keras.preprocessing import image\n",
        "from keras.utils import layer_utils\n",
        "from keras.utils.data_utils import get_file\n",
        "from keras.applications.imagenet_utils import preprocess_input\n",
        "import pydot\n",
        "from IPython.display import SVG\n",
        "from keras.utils.vis_utils import model_to_dot\n",
        "from keras.utils import plot_model\n",
        "from kt_utils import *\n",
        "\n",
        "import keras.backend as K\n",
        "K.set_image_data_format('channels_last')\n",
        "import matplotlib.pyplot as plt\n",
        "from matplotlib.pyplot import imshow\n"
      ],
      "execution_count": 5,
      "outputs": []
    },
    {
      "cell_type": "markdown",
      "metadata": {
        "id": "SDx-iIA12GqA"
      },
      "source": [
        "This File requires kt_utils and the datasets folder in CONV week 2"
      ]
    },
    {
      "cell_type": "code",
      "metadata": {
        "id": "bjKb19GwPiT0",
        "outputId": "dd504f91-321e-48dd-a55e-7c7ead201f3a",
        "colab": {
          "base_uri": "https://localhost:8080/",
          "height": 119
        }
      },
      "source": [
        "X_train_orig, Y_train_orig, X_test_orig, Y_test_orig, classes = load_dataset()\n",
        "\n",
        "# Normalize image vectors\n",
        "X_train = X_train_orig/255.\n",
        "X_test = X_test_orig/255.\n",
        "\n",
        "# Reshape\n",
        "Y_train = Y_train_orig.T\n",
        "Y_test = Y_test_orig.T\n",
        "\n",
        "print (\"number of training examples = \" + str(X_train.shape[0]))\n",
        "print (\"number of test examples = \" + str(X_test.shape[0]))\n",
        "print (\"X_train shape: \" + str(X_train.shape))\n",
        "print (\"Y_train shape: \" + str(Y_train.shape))\n",
        "print (\"X_test shape: \" + str(X_test.shape))\n",
        "print (\"Y_test shape: \" + str(Y_test.shape))"
      ],
      "execution_count": 6,
      "outputs": [
        {
          "output_type": "stream",
          "text": [
            "number of training examples = 600\n",
            "number of test examples = 150\n",
            "X_train shape: (600, 64, 64, 3)\n",
            "Y_train shape: (600, 1)\n",
            "X_test shape: (150, 64, 64, 3)\n",
            "Y_test shape: (150, 1)\n"
          ],
          "name": "stdout"
        }
      ]
    },
    {
      "cell_type": "markdown",
      "metadata": {
        "id": "Ps49Q75DUI4j"
      },
      "source": [
        "**Building a model in keras**"
      ]
    },
    {
      "cell_type": "code",
      "metadata": {
        "id": "3t_kF4xOUPRm"
      },
      "source": [
        "def HappyModel(input_shape):\n",
        "  \"\"\"\n",
        "  Implementation of the happy model which determines whether a face is happy or not\n",
        "\n",
        "  Arguments:\n",
        "  input_shape -- shape of the images of the dataset\n",
        "\n",
        "  Returns:\n",
        "  model -- a Model() instance in keras\n",
        "  \"\"\"\n",
        "\n",
        "  #Define the input placeholder as a tensor with shape input_shape. Think of this as your input image\n",
        "  X_input = Input(input_shape)\n",
        "\n",
        "  #Zero-padding: pads the border of X_input with zeros\n",
        "  X = ZeroPadding2D((3,3))(X_input)\n",
        "\n",
        "  #layer group1 32*32*32\n",
        "  #conv-BN->ReLU block applied to X\n",
        "  X = Conv2D(32, (7, 7), strides = (1, 1), name = 'conv1')(X)\n",
        "  X = BatchNormalization(axis = 3, name = 'bn1')(X)\n",
        "  X = Activation('relu')(X)\n",
        "  X = MaxPooling2D((2, 2), name ='max_pool1')(X)\n",
        "\n",
        "  #layer group2 16*16*64\n",
        "  X = ZeroPadding2D((2, 2))(X)\n",
        "  #CONV -> BN -> -> ReLU Block applied to X\n",
        "  X = Conv2D(64, (5, 5), strides = (1, 1), name = 'conv2')(X)\n",
        "  X = BatchNormalization(axis = 3, name = 'bn2')(X)\n",
        "  X = Activation('relu')(X)\n",
        "  X = MaxPooling2D((2, 2), name ='max_pool2')(X)\n",
        "\n",
        "  #layer group3 8*8*128\n",
        "  X = ZeroPadding2D((1, 1))(X)\n",
        "  # CONV -> BN -> RELU Block applied to X\n",
        "  X = Conv2D(128, (3, 3), strides = (1,1), name = 'conv3')(X)\n",
        "  X = BatchNormalization(axis = 3, name ='bn3')(X)\n",
        "  X = Activation('relu')(X)\n",
        "  X = MaxPooling2D((2, 2), name ='max_pool3')(X)\n",
        "\n",
        "  #layer group4 8*8*64\n",
        "  # CONV -> BN -> RELU Block applied to X\n",
        "  X = Conv2D(64, (1, 1), strides = (1, 1), name = 'conv4')(X)\n",
        "  X = BatchNormalization(axis = 3, name = 'bn4')(X)\n",
        "  X = Activation('relu')(X)\n",
        "\n",
        "  #layer group5 4*4*32\n",
        "  X = ZeroPadding2D((1, 1))(X)\n",
        "  # CONV -> BN -> RELU Block applied to X\n",
        "  X = Conv2D(32, (3, 3), strides = (1, 1), name = 'conv5')(X)\n",
        "  X = BatchNormalization(axis = 3, name = 'bn5')(X)\n",
        "  X = Activation('relu')(X)\n",
        "  X = MaxPooling2D((2, 2), name='max_pool5')(X)\n",
        "  \n",
        "  # FLATTEN X (means convert it to a vector) + FULLYCONNECTED\n",
        "  X = Flatten()(X)\n",
        "  X = Dense(128, activation='sigmoid', name='fc1')(X)\n",
        "  X = Dense(32, activation='sigmoid', name='fc2')(X)\n",
        "  X = Dense(1, activation='sigmoid', name='fc3')(X)\n",
        "  \n",
        "  # Create model. This creates your Keras model instance, you'll use this instance to train/test the model.\n",
        "  model = Model(inputs = X_input, outputs = X, name='HappyModel')\n",
        "  \n",
        "\n",
        "  \n",
        "  return model\n",
        "\n",
        "\n"
      ],
      "execution_count": 9,
      "outputs": []
    },
    {
      "cell_type": "markdown",
      "metadata": {
        "id": "Bdmj23iA00km"
      },
      "source": [
        "Create the Model"
      ]
    },
    {
      "cell_type": "code",
      "metadata": {
        "id": "C_-VhIss02lL"
      },
      "source": [
        "happyModel = HappyModel((64,64,3))"
      ],
      "execution_count": 10,
      "outputs": []
    },
    {
      "cell_type": "markdown",
      "metadata": {
        "id": "R3sIt4FO1YG5"
      },
      "source": [
        "Compile the model"
      ]
    },
    {
      "cell_type": "code",
      "metadata": {
        "id": "DSKtXYKY1bI8"
      },
      "source": [
        "happyModel.compile(optimizer = \"adam\", loss = \"binary_crossentropy\", metrics = [\"accuracy\"])"
      ],
      "execution_count": 11,
      "outputs": []
    },
    {
      "cell_type": "markdown",
      "metadata": {
        "id": "x4rIVIWL2N3G"
      },
      "source": [
        "Train the Model"
      ]
    },
    {
      "cell_type": "code",
      "metadata": {
        "id": "nZqbSZEr1lLl",
        "outputId": "a2b5d43e-364d-4fd0-f512-fe54e5c83347",
        "colab": {
          "base_uri": "https://localhost:8080/",
          "height": 714
        }
      },
      "source": [
        "happyModel.fit(x=X_train, y=Y_train, epochs = 20, batch_size = 16)"
      ],
      "execution_count": 14,
      "outputs": [
        {
          "output_type": "stream",
          "text": [
            "Epoch 1/20\n",
            "38/38 [==============================] - 0s 9ms/step - loss: 0.0081 - accuracy: 0.9967\n",
            "Epoch 2/20\n",
            "38/38 [==============================] - 0s 7ms/step - loss: 0.0107 - accuracy: 0.9967\n",
            "Epoch 3/20\n",
            "38/38 [==============================] - 0s 6ms/step - loss: 0.0044 - accuracy: 0.9983\n",
            "Epoch 4/20\n",
            "38/38 [==============================] - 0s 6ms/step - loss: 0.0038 - accuracy: 0.9983\n",
            "Epoch 5/20\n",
            "38/38 [==============================] - 0s 6ms/step - loss: 0.0030 - accuracy: 0.9983\n",
            "Epoch 6/20\n",
            "38/38 [==============================] - 0s 6ms/step - loss: 0.0027 - accuracy: 0.9983\n",
            "Epoch 7/20\n",
            "38/38 [==============================] - 0s 6ms/step - loss: 0.0094 - accuracy: 0.9967\n",
            "Epoch 8/20\n",
            "38/38 [==============================] - 0s 6ms/step - loss: 0.0035 - accuracy: 0.9983\n",
            "Epoch 9/20\n",
            "38/38 [==============================] - 0s 6ms/step - loss: 0.0023 - accuracy: 0.9983\n",
            "Epoch 10/20\n",
            "38/38 [==============================] - 0s 6ms/step - loss: 0.0023 - accuracy: 1.0000\n",
            "Epoch 11/20\n",
            "38/38 [==============================] - 0s 6ms/step - loss: 0.0010 - accuracy: 1.0000\n",
            "Epoch 12/20\n",
            "38/38 [==============================] - 0s 6ms/step - loss: 9.2487e-04 - accuracy: 1.0000\n",
            "Epoch 13/20\n",
            "38/38 [==============================] - 0s 6ms/step - loss: 8.5865e-04 - accuracy: 1.0000\n",
            "Epoch 14/20\n",
            "38/38 [==============================] - 0s 6ms/step - loss: 8.1183e-04 - accuracy: 1.0000\n",
            "Epoch 15/20\n",
            "38/38 [==============================] - 0s 6ms/step - loss: 7.8018e-04 - accuracy: 1.0000\n",
            "Epoch 16/20\n",
            "38/38 [==============================] - 0s 6ms/step - loss: 7.6256e-04 - accuracy: 1.0000\n",
            "Epoch 17/20\n",
            "38/38 [==============================] - 0s 6ms/step - loss: 7.3302e-04 - accuracy: 1.0000\n",
            "Epoch 18/20\n",
            "38/38 [==============================] - 0s 6ms/step - loss: 7.0788e-04 - accuracy: 1.0000\n",
            "Epoch 19/20\n",
            "38/38 [==============================] - 0s 6ms/step - loss: 6.9025e-04 - accuracy: 1.0000\n",
            "Epoch 20/20\n",
            "38/38 [==============================] - 0s 6ms/step - loss: 6.6563e-04 - accuracy: 1.0000\n"
          ],
          "name": "stdout"
        },
        {
          "output_type": "execute_result",
          "data": {
            "text/plain": [
              "<tensorflow.python.keras.callbacks.History at 0x7f0169fc89b0>"
            ]
          },
          "metadata": {
            "tags": []
          },
          "execution_count": 14
        }
      ]
    },
    {
      "cell_type": "code",
      "metadata": {
        "id": "r50Ea3Rf2ZpF"
      },
      "source": [
        ""
      ],
      "execution_count": null,
      "outputs": []
    }
  ]
}