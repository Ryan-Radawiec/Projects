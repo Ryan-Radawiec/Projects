{
 "cells": [
  {
   "cell_type": "code",
   "execution_count": 4,
   "metadata": {},
   "outputs": [
    {
     "name": "stdout",
     "output_type": "stream",
     "text": [
      "[107.2087328]\n",
      "[0.00755095 0.00780526]\n"
     ]
    },
    {
     "data": {
      "text/plain": [
       "'\\n\\nSo the equation is y= 0.00755095*Weight + 0.00780525*Volume\\n'"
      ]
     },
     "execution_count": 4,
     "metadata": {},
     "output_type": "execute_result"
    }
   ],
   "source": [
    "import pandas\n",
    "from sklearn import linear_model\n",
    "\n",
    "df=pandas.read_csv(\"cars.csv\")\n",
    "\n",
    "X = df[['Weight', 'Volume']]\n",
    "y=df['CO2']\n",
    "\n",
    "\n",
    "#Make a model of the data\n",
    "regr = linear_model.LinearRegression()\n",
    "regr.fit(X,y)\n",
    "\n",
    "#predict the CO2 emissions of a car where the weight is 2300kg and the volume is 1300cm\n",
    "predictedCO2 = regr.predict([[2300, 1300]])\n",
    "\n",
    "print(predictedCO2)\n",
    "\n",
    "\n",
    "#finds the coefficients of the equation\n",
    "print(regr.coef_)\n",
    "\"\"\"\n",
    "\n",
    "So the equation is y= 0.00755095*Weight + 0.00780525*Volume\n",
    "\"\"\""
   ]
  },
  {
   "cell_type": "code",
   "execution_count": null,
   "metadata": {},
   "outputs": [],
   "source": [
    "#Might have to figure out how to do polynpomial regression instead of Random Forest so it seems less black box"
   ]
  }
 ],
 "metadata": {
  "kernelspec": {
   "display_name": "Python 3",
   "language": "python",
   "name": "python3"
  },
  "language_info": {
   "codemirror_mode": {
    "name": "ipython",
    "version": 3
   },
   "file_extension": ".py",
   "mimetype": "text/x-python",
   "name": "python",
   "nbconvert_exporter": "python",
   "pygments_lexer": "ipython3",
   "version": "3.7.6"
  }
 },
 "nbformat": 4,
 "nbformat_minor": 4
}
